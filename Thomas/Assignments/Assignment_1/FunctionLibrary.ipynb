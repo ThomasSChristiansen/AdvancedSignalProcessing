{
 "cells": [
  {
   "cell_type": "code",
   "execution_count": 1,
   "metadata": {},
   "outputs": [],
   "source": [
    "import numpy as np\n",
    "import scipy.signal as sig\n",
    "import matplotlib.pyplot as plt\n",
    "\n",
    "#importing functions from another \n",
    "import import_ipynb"
   ]
  },
  {
   "cell_type": "code",
   "execution_count": 2,
   "metadata": {},
   "outputs": [],
   "source": [
    "def downsample(x, D, offset = None):\n",
    "    k = offset\n",
    "    if k == None:\n",
    "        y = [x[i*D] for i in range(int(len(x)/D))]\n",
    "    else:\n",
    "        temp = [*x[k:],*x[:k]] #Wrap list: The 'offset' first values are appended to the end. \n",
    "        y = [temp[i*D] for i in range(int(len(temp)/D))]\n",
    "    return y\n",
    "\n",
    "def upsample(x, I,length):\n",
    "    zeros = [0 for i in range(I-1)]\n",
    "    y = []\n",
    "    for i in range(length):\n",
    "        y = np.append(y, [x[i], *zeros])\n",
    "        y = np.array(y).reshape(I*(i+1))\n",
    "    return y\n",
    "\n",
    "def linInterp(data, I):\n",
    "    w = [] #Triangular convolution window\n",
    "    for x in range(-I+1, I):\n",
    "        w.append(1-abs(x)/I)\n",
    "    wf = np.flip(w)\n",
    "    x = [*[0 for _ in range(I-1)], *data]\n",
    "    y = [sum(x[i:i+len(wf)] * wf) for i in range(len(x)-len(wf)+1)]\n",
    "    return y\n",
    "\n",
    "def delay(x, nSampDelay):\n",
    "    zeros = [0 for _ in range(nSampDelay)]\n",
    "    x = x[:-nSampDelay]\n",
    "    y = [*zeros, *x]\n",
    "    return y\n",
    "\n",
    "def convolve_1d(data, w, neg_start_idx = None): #If the window has a negative index, a padding of 0s can be added to the sequence. \n",
    "    wf = np.flip(w)\n",
    "    I = len(w)\n",
    "    xdata = [*data, *[0 for i in range(I-1)]]\n",
    "    if neg_start_idx:\n",
    "        x_idx = [*[0 for _ in range(neg_start_idx)], *xdata]\n",
    "        y = [sum(x_idx[i:i+len(wf)] * wf) for i in range(len(x_idx)-len(wf)+1)]\n",
    "    else:\n",
    "        y = [sum(xdata[i:i+len(wf)] * wf) for i in range(len(xdata)-len(wf)+1)]\n",
    "    return y"
   ]
  },
  {
   "cell_type": "code",
   "execution_count": null,
   "metadata": {},
   "outputs": [],
   "source": []
  }
 ],
 "metadata": {
  "kernelspec": {
   "display_name": ".venv",
   "language": "python",
   "name": "python3"
  },
  "language_info": {
   "codemirror_mode": {
    "name": "ipython",
    "version": 3
   },
   "file_extension": ".py",
   "mimetype": "text/x-python",
   "name": "python",
   "nbconvert_exporter": "python",
   "pygments_lexer": "ipython3",
   "version": "3.10.11"
  }
 },
 "nbformat": 4,
 "nbformat_minor": 2
}
